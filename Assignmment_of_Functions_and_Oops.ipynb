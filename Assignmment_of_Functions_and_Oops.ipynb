{
  "nbformat": 4,
  "nbformat_minor": 0,
  "metadata": {
    "colab": {
      "provenance": []
    },
    "kernelspec": {
      "name": "python3",
      "display_name": "Python 3"
    },
    "language_info": {
      "name": "python"
    }
  },
  "cells": [
    {
      "cell_type": "code",
      "execution_count": null,
      "metadata": {
        "id": "HNjr5ucqhUZW"
      },
      "outputs": [],
      "source": [
        "#Explain the importance of Functions\n",
        "\n",
        "# ANSWER:- It is a block of code that performs some specific computationa and it keeps your code neat, clean, organise and reusable."
      ]
    },
    {
      "cell_type": "code",
      "source": [
        "# Write a basic function to greet students\n",
        "\n",
        "def greet(n):\n",
        "  print(\"Welcome to class\", n)"
      ],
      "metadata": {
        "id": "XAaqAQAvj3XG"
      },
      "execution_count": null,
      "outputs": []
    },
    {
      "cell_type": "code",
      "source": [
        "greet(\"Ayush\")"
      ],
      "metadata": {
        "colab": {
          "base_uri": "https://localhost:8080/"
        },
        "id": "XB0vEmw4kYmg",
        "outputId": "aaac3c31-5fe5-4ede-c220-a876734d725f"
      },
      "execution_count": null,
      "outputs": [
        {
          "output_type": "stream",
          "name": "stdout",
          "text": [
            "Welcome to class Ayush\n"
          ]
        }
      ]
    },
    {
      "cell_type": "code",
      "source": [
        "# What is the difference between print and return statements?\n",
        "\n",
        "# ANSWER:- 1. print() Displays output to the console but, in return() sends the value back to the caller\n",
        "#          2. print() function continues after printing but, in return() function exits after returning value\n",
        "#          3. print() is use for displaying messages to the user but, in return() it is used for passing out of value\n"
      ],
      "metadata": {
        "id": "unCADlILkcJj"
      },
      "execution_count": null,
      "outputs": []
    },
    {
      "cell_type": "code",
      "source": [
        "#  What are *args and **kwargs\n",
        "\n",
        "# ANSWER:- *args allows a function  to accept any number of non-keyword arguments i.e., positional arguments\n",
        "#        **kwargs allows a function to accept any number of keyword arguments i.e., arguments passsed in the form of key value pairs"
      ],
      "metadata": {
        "id": "2_gUqVU5m_-S"
      },
      "execution_count": null,
      "outputs": []
    },
    {
      "cell_type": "code",
      "source": [
        "# Explain the iterator function\n",
        "\n",
        "# ANSWER:- Iterators is an object that is used to iterate over  iterable  objects(list, tuple, dict, string, sets)"
      ],
      "metadata": {
        "id": "xzKcGDWQo1_q"
      },
      "execution_count": null,
      "outputs": []
    },
    {
      "cell_type": "code",
      "source": [
        "# Write a code that generates the squares of numbers from 1 to n using a generator\n",
        "\n",
        "def  square_numbers_generators(n):\n",
        "  for i in range(1, n+1):\n",
        "    yield i**2\n",
        "gen = square_numbers_generators(5)"
      ],
      "metadata": {
        "id": "70cwHFKtprU4"
      },
      "execution_count": null,
      "outputs": []
    },
    {
      "cell_type": "code",
      "source": [
        "next(gen)"
      ],
      "metadata": {
        "colab": {
          "base_uri": "https://localhost:8080/"
        },
        "id": "yITEjmH6r_7i",
        "outputId": "2e692efb-e096-4c92-ca87-c32b5cb1120a"
      },
      "execution_count": null,
      "outputs": [
        {
          "output_type": "execute_result",
          "data": {
            "text/plain": [
              "1"
            ]
          },
          "metadata": {},
          "execution_count": 18
        }
      ]
    },
    {
      "cell_type": "code",
      "source": [
        "# Write a code that generates palindromic numbers up to n using a generator\n",
        "\n",
        "def is_palindrome(num):\n",
        "    return str(num) == str(num)[::-1]\n",
        "\n",
        "def generate_palindromes(n):\n",
        "    for i in range(1, n + 1):\n",
        "        if is_palindrome(i):\n",
        "            yield i\n",
        "gen = generate_palindromes(100)"
      ],
      "metadata": {
        "id": "8Da418FxsaS8"
      },
      "execution_count": null,
      "outputs": []
    },
    {
      "cell_type": "code",
      "source": [
        "next(gen)"
      ],
      "metadata": {
        "id": "Q3p-ecAxtvFE",
        "outputId": "e0a78078-ee84-4ce8-ee2e-e32e36738052",
        "colab": {
          "base_uri": "https://localhost:8080/"
        }
      },
      "execution_count": null,
      "outputs": [
        {
          "output_type": "execute_result",
          "data": {
            "text/plain": [
              "1"
            ]
          },
          "metadata": {},
          "execution_count": 25
        }
      ]
    },
    {
      "cell_type": "code",
      "source": [
        "# Write a code that generates even numbers from 2 to n using a generator\n",
        "\n",
        "def generate_even_numbers(n):\n",
        "  for i in range(2, n+1, 2):\n",
        "    yield i\n",
        "\n",
        "even_number = generate_even_numbers(20)"
      ],
      "metadata": {
        "id": "Z4f1N7tRtzv0"
      },
      "execution_count": null,
      "outputs": []
    },
    {
      "cell_type": "code",
      "source": [
        "next(even_number)"
      ],
      "metadata": {
        "colab": {
          "base_uri": "https://localhost:8080/"
        },
        "id": "tgT8vntGsi0y",
        "outputId": "caa4f704-b07b-43ad-d280-750bb97fed5c"
      },
      "execution_count": null,
      "outputs": [
        {
          "output_type": "execute_result",
          "data": {
            "text/plain": [
              "2"
            ]
          },
          "metadata": {},
          "execution_count": 8
        }
      ]
    },
    {
      "cell_type": "code",
      "source": [
        "# Write a code that generates powers of two up to n using a generator\n",
        "\n",
        "def generate_powers_of_two(n):\n",
        "  power = 1\n",
        "  while power <= n:\n",
        "    yield power\n",
        "    power *= 2\n",
        "\n",
        "power = generate_powers_of_two(100)"
      ],
      "metadata": {
        "id": "ml2u5meNstX1"
      },
      "execution_count": null,
      "outputs": []
    },
    {
      "cell_type": "code",
      "source": [
        "next(power)"
      ],
      "metadata": {
        "colab": {
          "base_uri": "https://localhost:8080/"
        },
        "id": "vEvpgdJrvejE",
        "outputId": "d1d37f70-d6a7-49aa-d577-4cccf554364b"
      },
      "execution_count": null,
      "outputs": [
        {
          "output_type": "execute_result",
          "data": {
            "text/plain": [
              "1"
            ]
          },
          "metadata": {},
          "execution_count": 13
        }
      ]
    },
    {
      "cell_type": "code",
      "source": [
        "# Write a code that generates prime numbers up to n using a generator\n",
        "\n",
        "def is_prime(number):\n",
        "  if number < 2:\n",
        "    return False\n",
        "  for i in range(2, int(number ** 0.5) + 1):\n",
        "    if number % i == 0:\n",
        "      return False\n",
        "  return True\n",
        "\n",
        "def generate_prime_numbers(n):\n",
        "  for num in range(2, n+1):\n",
        "    if is_prime(num):\n",
        "      yield num\n",
        "\n",
        "prime = generate_prime_numbers(50)"
      ],
      "metadata": {
        "id": "Sl4IOmLNv1dF"
      },
      "execution_count": null,
      "outputs": []
    },
    {
      "cell_type": "code",
      "source": [
        "next(prime)"
      ],
      "metadata": {
        "colab": {
          "base_uri": "https://localhost:8080/"
        },
        "id": "9qRTiJ8_x4V1",
        "outputId": "56a50b65-4e4e-4049-9c79-1bb5b09298e8"
      },
      "execution_count": null,
      "outputs": [
        {
          "output_type": "execute_result",
          "data": {
            "text/plain": [
              "2"
            ]
          },
          "metadata": {},
          "execution_count": 20
        }
      ]
    },
    {
      "cell_type": "code",
      "source": [
        "# Write a code that uses a lambda function to calculate the sum of two numbers\n",
        "\n",
        "sum_func  = lambda x, y: x + y\n",
        "\n",
        "a = 25\n",
        "b = 20\n",
        "result = sum_func(a, b)\n",
        "result"
      ],
      "metadata": {
        "colab": {
          "base_uri": "https://localhost:8080/"
        },
        "id": "UwikmHBNx7o8",
        "outputId": "d67ce056-60e7-4fc8-e407-24363251687d"
      },
      "execution_count": null,
      "outputs": [
        {
          "output_type": "execute_result",
          "data": {
            "text/plain": [
              "45"
            ]
          },
          "metadata": {},
          "execution_count": 11
        }
      ]
    },
    {
      "cell_type": "code",
      "source": [
        "# Write a code that uses a lambda function to calculate the square of a given number\n",
        "\n",
        "square_func = lambda x: x ** 2\n",
        "\n",
        "number = 10\n",
        "result = square_func(number)\n",
        "result"
      ],
      "metadata": {
        "colab": {
          "base_uri": "https://localhost:8080/"
        },
        "id": "bq2GHJjj5odm",
        "outputId": "2f99b5d0-ef18-44c9-a9a5-f010e7bb7229"
      },
      "execution_count": null,
      "outputs": [
        {
          "output_type": "execute_result",
          "data": {
            "text/plain": [
              "100"
            ]
          },
          "metadata": {},
          "execution_count": 10
        }
      ]
    },
    {
      "cell_type": "code",
      "source": [
        "# Write a code that uses a lambda function to check whether a given number is even or odd\n",
        "\n",
        "check_even_odd = lambda x: \"even\" if x%2 == 0 else \"odd\"\n",
        "\n",
        "number = 20\n",
        "result = check_even_odd(number)\n",
        "result"
      ],
      "metadata": {
        "colab": {
          "base_uri": "https://localhost:8080/",
          "height": 35
        },
        "id": "Y0je5BHP6xio",
        "outputId": "b4b5c39b-d5ee-46f1-b48a-7ed958c49efd"
      },
      "execution_count": null,
      "outputs": [
        {
          "output_type": "execute_result",
          "data": {
            "text/plain": [
              "'even'"
            ],
            "application/vnd.google.colaboratory.intrinsic+json": {
              "type": "string"
            }
          },
          "metadata": {},
          "execution_count": 9
        }
      ]
    },
    {
      "cell_type": "code",
      "source": [
        "#  Write a code that uses a lambda function to concatenate two strings\n",
        "\n",
        "concatenate_strings = lambda str1, str2: str1 + str2\n",
        "\n",
        "string1 = \"Hello, \"\n",
        "string2 = \"World!\"\n",
        "result4 = concatenate_strings(string1, string2)\n",
        "result4"
      ],
      "metadata": {
        "colab": {
          "base_uri": "https://localhost:8080/",
          "height": 35
        },
        "id": "nStT9B6g7X11",
        "outputId": "6d32c9df-b9e7-4e68-dadf-fe91e0a88bcc"
      },
      "execution_count": null,
      "outputs": [
        {
          "output_type": "execute_result",
          "data": {
            "text/plain": [
              "'Hello, World!'"
            ],
            "application/vnd.google.colaboratory.intrinsic+json": {
              "type": "string"
            }
          },
          "metadata": {},
          "execution_count": 37
        }
      ]
    },
    {
      "cell_type": "code",
      "source": [
        "# Write a code that uses a lambda function to find the maximum of three given numbers\n",
        "\n",
        "maximum_of_three = lambda x, y, z: max(x, y, z)\n",
        "\n",
        "a, b, c = 15, 20, 45\n",
        "result = maximum_of_three(a, b, c)\n",
        "result"
      ],
      "metadata": {
        "colab": {
          "base_uri": "https://localhost:8080/"
        },
        "id": "qEiORs4F8FP4",
        "outputId": "50ffb5e3-6fbd-4d19-c510-f4b31ccd8630"
      },
      "execution_count": null,
      "outputs": [
        {
          "output_type": "execute_result",
          "data": {
            "text/plain": [
              "45"
            ]
          },
          "metadata": {},
          "execution_count": 8
        }
      ]
    },
    {
      "cell_type": "code",
      "source": [
        "# Write a code that generates the squares of even numbers from a given list\n",
        "\n",
        "def square_of_even(numbers):\n",
        "  return [x ** 2 for x in numbers  if x % 2 == 0]\n",
        "\n",
        "input_list = [1, 2, 3, 4, 5, 6, 7, 8]\n",
        "result = square_of_even(input_list)\n",
        "result"
      ],
      "metadata": {
        "colab": {
          "base_uri": "https://localhost:8080/"
        },
        "id": "nVFEJ54J8wFq",
        "outputId": "1ff2055f-fd4a-4c77-c9c6-840e55c7226a"
      },
      "execution_count": null,
      "outputs": [
        {
          "output_type": "execute_result",
          "data": {
            "text/plain": [
              "[4, 16, 36, 64]"
            ]
          },
          "metadata": {},
          "execution_count": 7
        }
      ]
    },
    {
      "cell_type": "code",
      "source": [
        "# Write a code that calculates the product of positive numbers from a given list\n",
        "\n",
        "from functools import reduce\n",
        "\n",
        "\n",
        "def  product_positive(numbers):\n",
        "  positive_no = [x for x in numbers if x > 0]\n",
        "  return reduce(lambda x, y: x * y, positive_no, 1)\n",
        "\n",
        "list1 = [1, 3, -3, 3, -2, -1, 4, 5, 0]\n",
        "result = product_positive(list1)\n",
        "result"
      ],
      "metadata": {
        "colab": {
          "base_uri": "https://localhost:8080/"
        },
        "id": "U1xQJGeWLPHK",
        "outputId": "441d37c8-0309-4b4d-df25-7f5a8c59b2e5"
      },
      "execution_count": null,
      "outputs": [
        {
          "output_type": "execute_result",
          "data": {
            "text/plain": [
              "180"
            ]
          },
          "metadata": {},
          "execution_count": 6
        }
      ]
    },
    {
      "cell_type": "code",
      "source": [
        "#  Write a code that doubles the values of odd numbers from a given list\n",
        "\n",
        "def doubles_value(numbers):\n",
        "  return [x * 2 if x % 2 != 0 else x for x in numbers]\n",
        "\n",
        "list2 = [1, 2, 3, 4, 5, 6, 7]\n",
        "result = doubles_value(list2)\n",
        "result"
      ],
      "metadata": {
        "colab": {
          "base_uri": "https://localhost:8080/"
        },
        "id": "uugTBqXNM1eB",
        "outputId": "5e429fb0-c2a6-4cfd-a88b-a61b20ac4bad"
      },
      "execution_count": null,
      "outputs": [
        {
          "output_type": "execute_result",
          "data": {
            "text/plain": [
              "[2, 2, 6, 4, 10, 6, 14]"
            ]
          },
          "metadata": {},
          "execution_count": 5
        }
      ]
    },
    {
      "cell_type": "code",
      "source": [
        "# Write a code that calculates the sum of cubes of numbers from a given list\n",
        "\n",
        "def sum_of_cubes(numbers):\n",
        "  return [x ** 3 for x in numbers]\n",
        "\n",
        "list3 = [1, 2, 3, 4, 5]\n",
        "result = sum_of_cubes(list3)\n",
        "result"
      ],
      "metadata": {
        "colab": {
          "base_uri": "https://localhost:8080/"
        },
        "id": "GW5ut1cCNy43",
        "outputId": "99664ed0-1374-43cd-d738-22b1c2b44ac7"
      },
      "execution_count": null,
      "outputs": [
        {
          "output_type": "execute_result",
          "data": {
            "text/plain": [
              "[1, 8, 27, 64, 125]"
            ]
          },
          "metadata": {},
          "execution_count": 13
        }
      ]
    },
    {
      "cell_type": "code",
      "source": [
        "#  Write a code that filters out prime numbers from a given list\n",
        "\n",
        "def is_prime(num):\n",
        "  if num < 2:\n",
        "    return False\n",
        "  for i in range(2, int(num ** 0.5) + 1):\n",
        "    if num % i == 0:\n",
        "      return False\n",
        "  return True\n",
        "\n",
        "def filter_primes(lst):\n",
        "  return [x for x in lst if not is_prime(x)]\n",
        "\n",
        "numbers = [2, 3, 4, 5, 6, 7, 8, 9, 10]\n",
        "result = filter_primes(numbers)\n",
        "result"
      ],
      "metadata": {
        "id": "wi9ApwkxO9rp",
        "colab": {
          "base_uri": "https://localhost:8080/"
        },
        "outputId": "38fd1a34-4bee-42bd-e312-9824b3edc46c"
      },
      "execution_count": null,
      "outputs": [
        {
          "output_type": "execute_result",
          "data": {
            "text/plain": [
              "[4, 6, 8, 9, 10]"
            ]
          },
          "metadata": {},
          "execution_count": 2
        }
      ]
    },
    {
      "cell_type": "code",
      "source": [
        "#  What is encapsulation in OOP?\n",
        "\n",
        "# ANSWER:- It is a fundamental concept that involves bundling data and methods into a single unit, typically a class, and restrcting access  to the internal details of that class."
      ],
      "metadata": {
        "id": "3JgCqEHscF64"
      },
      "execution_count": null,
      "outputs": []
    },
    {
      "cell_type": "code",
      "source": [
        "# Explain the use of access modifiers in Python classes\n",
        "\n",
        "# ANSWER:- Access modifier are used to difine the accessibility of attributes and methods within a class. while python doesn't have explicit keywords like public, private and protected as seen in some other languagess, it provides a mechanism to achieve similar functionality using naming conventions.\n"
      ],
      "metadata": {
        "id": "9JlQYubmdaJD"
      },
      "execution_count": null,
      "outputs": []
    },
    {
      "cell_type": "code",
      "source": [
        "# What is inheritance in OOP?\n",
        "\n",
        "# ANSWER:- It is a mechanism where one class(child class or derived class) inherits the properties and behaviour of another class(parent class or base class). It allows developers to reuse code, promote scalability, and establish hierarchical relationships between classes.\n"
      ],
      "metadata": {
        "id": "0PJ5del6j_MX"
      },
      "execution_count": null,
      "outputs": []
    },
    {
      "cell_type": "code",
      "source": [
        "# Define polymorphism in OOP.\n",
        "\n",
        "# ANSWER:- The word \"polymorphism\" comes from the Greek words \"poly\", meaning Many, and \"morph\", meaning forms. It is the ability of objects to take on multiple forms. It allows the same interface such as method or operator to behave differently based on the object or data it is acting upon.\n"
      ],
      "metadata": {
        "id": "-PBe-U-7lYP5"
      },
      "execution_count": null,
      "outputs": []
    },
    {
      "cell_type": "code",
      "source": [
        "# Explain method overriding in Python\n",
        "\n",
        "# ANSWER:- It is a feature of runtime polymorphism, where a subclass(child class) provides its own implementation of a method that is already defined in its superclass(parent class). This allows the child class to modify or extend the behavior of the parent class method to suit its specific needs.\n",
        "\n",
        "class Parent:\n",
        "  def display_msg(self):\n",
        "    print(\"This is parent class\")\n",
        "class Child(Parent):\n",
        "  def display_msg(self):    # Overriding the method\n",
        "    print(\"This is child class\")\n",
        "\n",
        "parent = Parent()\n",
        "child = Child()\n",
        "\n",
        "parent.display_msg()\n",
        "child.display_msg()"
      ],
      "metadata": {
        "colab": {
          "base_uri": "https://localhost:8080/"
        },
        "id": "qIPLwbQLmvDH",
        "outputId": "82b9ba1c-78c0-4843-9125-783c810db1d6"
      },
      "execution_count": null,
      "outputs": [
        {
          "output_type": "stream",
          "name": "stdout",
          "text": [
            "This is parent class\n",
            "This is child class\n"
          ]
        }
      ]
    },
    {
      "cell_type": "code",
      "source": [
        "# Define a parent class Animal with a method make_sound that prints \"Generic animal sound\". Create a\n",
        "#     child class Dog inheriting from Animal with a method make_sound that prints \"Woof!\"\n",
        "\n",
        "\n",
        "class Animal:\n",
        "  def make_sound(self):\n",
        "    print(\"Generic animal sound\")\n",
        "\n",
        "class Dog(Animal):\n",
        "  def make_sound(self):\n",
        "    print(\"Woof!\")\n",
        "\n",
        "animal = Animal()\n",
        "animal.make_sound()\n",
        "\n",
        "dog = Dog()\n",
        "dog.make_sound()"
      ],
      "metadata": {
        "colab": {
          "base_uri": "https://localhost:8080/"
        },
        "id": "uKis5Bzdq2bP",
        "outputId": "010f5391-1bca-47b0-ef08-b95b15398ce8"
      },
      "execution_count": null,
      "outputs": [
        {
          "output_type": "stream",
          "name": "stdout",
          "text": [
            "Generic animal sound\n",
            "Woof!\n"
          ]
        }
      ]
    },
    {
      "cell_type": "code",
      "source": [
        "# Define a method move in the Animal class that prints \"Animal moves\". Override the move method in the\n",
        "# Dog class to print \"Dog runs\".\n",
        "\n",
        "\n",
        "class Animal:\n",
        "  def move(self):\n",
        "    print(\"Animal moves\")\n",
        "\n",
        "class Dog(Animal):\n",
        "  def move(self):\n",
        "    print(\"Dog runs\")\n",
        "\n",
        "animal1 = Animal()\n",
        "animal1.move()\n",
        "\n",
        "dog1 = Dog()\n",
        "dog1.move()"
      ],
      "metadata": {
        "colab": {
          "base_uri": "https://localhost:8080/"
        },
        "id": "qTDy4NB8r5WM",
        "outputId": "f68574c2-2bc9-4429-e9c7-e5fd0905e92a"
      },
      "execution_count": null,
      "outputs": [
        {
          "output_type": "stream",
          "name": "stdout",
          "text": [
            "Animal moves\n",
            "Dog runs\n"
          ]
        }
      ]
    },
    {
      "cell_type": "code",
      "source": [
        "# ceate a class Mammal with a method reproduce that prints \"Giving birth to live young.\" Create a class\n",
        "# DogMammal inheriting from both Dog and Mammal.\n",
        "\n",
        "\n",
        "class Mammal:\n",
        "    def reproduce(self):\n",
        "        print(\"Giving birth to live young.\")\n",
        "\n",
        "class Dog:\n",
        "    def make_sound(self):\n",
        "        print(\"Woof!\")\n",
        "\n",
        "    def move(self):\n",
        "        print(\"Dog runs\")\n",
        "\n",
        "class DogMammal(Dog, Mammal):\n",
        "    pass\n",
        "\n",
        "dog_mammal = DogMammal()\n",
        "dog_mammal.make_sound()\n",
        "dog_mammal.move()\n",
        "dog_mammal.reproduce()"
      ],
      "metadata": {
        "colab": {
          "base_uri": "https://localhost:8080/"
        },
        "id": "G1K_nbLVs0yc",
        "outputId": "725090aa-5796-4350-b452-8f2dc52959dc"
      },
      "execution_count": null,
      "outputs": [
        {
          "output_type": "stream",
          "name": "stdout",
          "text": [
            "Woof!\n",
            "Dog runs\n",
            "Giving birth to live young.\n"
          ]
        }
      ]
    },
    {
      "cell_type": "code",
      "source": [
        "# create a class GermanShepherd inheriting from Dog and override the make_sound method to print\n",
        "# \"Bark!\"\n",
        "\n",
        "\n",
        "class Dog:\n",
        "  def make_sound(self):\n",
        "    print(\"Woof!\")\n",
        "  def move(self):\n",
        "    print(\"Dog runs\")\n",
        "\n",
        "class GermanShepherd(Dog):\n",
        "  def make_sound(self):\n",
        "    print(\"Bark!\")\n",
        "\n",
        "dog = Dog()\n",
        "dog.make_sound()\n",
        "\n",
        "german_shephrd = GermanShepherd()\n",
        "german_shephrd.make_sound()\n",
        "german_shephrd.move()"
      ],
      "metadata": {
        "colab": {
          "base_uri": "https://localhost:8080/"
        },
        "id": "M7YzWTZhvuiM",
        "outputId": "22f425e0-5121-4963-b97f-10d08c008485"
      },
      "execution_count": null,
      "outputs": [
        {
          "output_type": "stream",
          "name": "stdout",
          "text": [
            "Woof!\n",
            "Bark!\n",
            "Dog runs\n"
          ]
        }
      ]
    },
    {
      "cell_type": "code",
      "source": [
        "# Define constructors in both the Animal and Dog classes with different initialization parameters.\n",
        "\n",
        "class Animal:\n",
        "  def __init__(self, name, species):\n",
        "    self.name = name\n",
        "    self.species = species\n",
        "  def display_info(self):\n",
        "    print(f\"Name: {self.name}, species: {self.species}\")\n",
        "\n",
        "class Dog(Animal):\n",
        "  def __init__(self, name, breed):\n",
        "    super().__init__(name, \"Dog\")\n",
        "    self.breed = breed\n",
        "\n",
        "  def display_info(self):\n",
        "    super().display_info()\n",
        "    print(f\"Breed: {self.breed}\")\n",
        "\n",
        "\n",
        "animal = Animal(\"Leo\", \"Lion\")\n",
        "animal.display_info()\n",
        "\n",
        "dog = Dog(\"Max\", \"Greman shepherd\")\n",
        "dog.display_info()"
      ],
      "metadata": {
        "colab": {
          "base_uri": "https://localhost:8080/"
        },
        "id": "BIXUckuWxQcn",
        "outputId": "a20398c8-c500-411a-c177-9245fdc9c7bf"
      },
      "execution_count": null,
      "outputs": [
        {
          "output_type": "stream",
          "name": "stdout",
          "text": [
            "Name: Leo, species: Lion\n",
            "Name: Max, species: Dog\n",
            "Breed: Greman shepherd\n"
          ]
        }
      ]
    },
    {
      "cell_type": "code",
      "source": [
        "# What is abstraction in Python? How is it implemented?\n",
        "\n",
        "# ANSWER:- Abstraction in python focuses on hiding the implementation details of an object and showing only its  essential features.\n",
        "        #  It allows you to intract with objects at a higher level while keeping the complex  internals hidden, making the code simpler and more manageable.\n",
        "\n",
        "# implementation of Abstraction:\n",
        "# 1. Abstract classes:>>It is created using the ABC(Abstract base  class)module from the abc library.\n",
        "                    # :>> it serve  as blueprint for other classes.They may define abstract methods, which must be implemented in child classes.\n",
        "# 2. Abstract methods:>> it is declared but does not have a complete implementation.\n",
        "                  # :>> subclasses are required to provide a concrete implementation of abstract methods.\n",
        "\n",
        "from abc import ABC, abstractmethod\n",
        "\n",
        "class Animal(ABC):\n",
        "  @abstractmethod\n",
        "  def make_sound(self):\n",
        "    pass\n",
        "\n",
        "class Dog(Animal):\n",
        "  def make_sound(self):\n",
        "    print(\"Woof!\")\n",
        "\n",
        "dog = Dog()\n",
        "dog.make_sound()"
      ],
      "metadata": {
        "colab": {
          "base_uri": "https://localhost:8080/"
        },
        "id": "X96RBWYPzMGc",
        "outputId": "63e5c1f7-1285-43f6-b21c-1c3f215db70c"
      },
      "execution_count": null,
      "outputs": [
        {
          "output_type": "stream",
          "name": "stdout",
          "text": [
            "Woof!\n"
          ]
        }
      ]
    },
    {
      "cell_type": "code",
      "source": [
        "# Explain the importance of abstraction in object-oriented programming.\n",
        "\n",
        "# ANSWER:- It is important because it bridges the gap between what a system does and how it accomplishes that. It simplifies code, reduces complexity, allows systems to grow and evolve while maintaining clarity and consistency.\n",
        "    # 1. Hide complexity\n",
        "    # 2. Promotes Reusability\n",
        "    # 3. Facilitates changes and maintainance\n",
        "    # 4. Enhances Modularity\n",
        "    # 5. Supports polymorphism\n",
        "    # 6. Improves collaboration"
      ],
      "metadata": {
        "id": "u4VoSOiXQ7Oj"
      },
      "execution_count": null,
      "outputs": []
    },
    {
      "cell_type": "code",
      "source": [
        "# How are abstract methods different from regular methods in Python?\n",
        "\n",
        "# ANSWER:- Abstract method >> these methods are declared in abstract classes, which are classes that cannot be instantiated directly.\n",
        "          # >> any aubclass of an abstract class required to implement all its abstract methods unnless the subclass itself is abstract.\n",
        "          # >> abstract methods typically do not have any implementationin the abstract base class; they only define the method signature(name and arguments).\n",
        "          # >> abstract method serve as a blueprint for subclasses, enforcing a contarcto ensure the implementation of specific methods in derived classes.\n",
        "\n",
        "    # Regular methods >> regular methods can be defined in both abstract classes and non-abstract classes.\n",
        "        # >> subclasses may override regular methods, but it it not mandatory.\n",
        "        # >> regular methods have a complete implementation in the parent class.\n",
        "        # >> they provide functionality that can be used directly or customized by subclasses.\n"
      ],
      "metadata": {
        "id": "JkDEA8mtUyb6"
      },
      "execution_count": null,
      "outputs": []
    },
    {
      "cell_type": "code",
      "source": [
        "# How can you achieve abstraction using interfaces in Python?\n",
        "\n",
        "# ANSWER:- we can achieve abstraction using interfaces, which are implemented through Abstract Base classes(ABCs) form abc module.\n",
        "        # interfaces in pyhton are essentially abstract classes that define a set of methods that any concrete(non-abstract) class must implement.\n",
        "# example >>\n",
        "\n",
        "from abc import ABC, abstractmethod\n",
        "\n",
        "class Shape(ABC):   #define interface(abstract base class)\n",
        "  @abstractmethod\n",
        "  def area(self):\n",
        "    pass\n",
        "\n",
        "  @abstractmethod\n",
        "  def perimeter(self):\n",
        "    pass\n",
        "\n",
        "class Rectangle(Shape):   #Implement the interface in concrete classes\n",
        "  def __init__(self, width, height):\n",
        "    self.width = width\n",
        "    self.height = height\n",
        "\n",
        "  def area(self):\n",
        "    return self.width * self.height\n",
        "  def perimeter(self):\n",
        "    return 2 * (self.width + self.height)\n",
        "\n",
        "\n",
        "rect = Rectangle(4, 15)\n",
        "rect.area()\n",
        "rect.perimeter()"
      ],
      "metadata": {
        "colab": {
          "base_uri": "https://localhost:8080/"
        },
        "id": "bfjPDvt85oQU",
        "outputId": "ed90a459-c7cf-450c-bec3-b70069fe819f"
      },
      "execution_count": null,
      "outputs": [
        {
          "output_type": "execute_result",
          "data": {
            "text/plain": [
              "38"
            ]
          },
          "metadata": {},
          "execution_count": 10
        }
      ]
    },
    {
      "cell_type": "code",
      "source": [
        "# Can you provide an example of how abstraction can be utilized to create a common interface for a group\n",
        "#    of related classes in Python?\n",
        "\n",
        "\n",
        "from abc import ABC, abstractmethod\n",
        "\n",
        "class Payment(ABC):\n",
        "  @abstractmethod\n",
        "  def pay(self, amount):\n",
        "    pass\n",
        "\n",
        "  @abstractmethod\n",
        "  def pay_method(self):\n",
        "    pass\n",
        "\n",
        "class Creditcardpay(Payment):\n",
        "  def pay(self, amount):\n",
        "    return f\"paid rs.{amount} using credit card.\"\n",
        "  def pay_method(self):\n",
        "    return \"Credit card\"\n",
        "\n",
        "class BHIMUPI(Payment):\n",
        "  def pay(self, amount):\n",
        "    return f\"paid rs.{amount} using BHIMUPI.\"\n",
        "  def pay_method(self):\n",
        "    return \"BHIMPI\"\n",
        "\n",
        "class BankTransfer(Payment):\n",
        "  def pay(self, amount):\n",
        "    return f\"paid rs.{amount} using Bank Transfer.\"\n",
        "  def pay_method(self):\n",
        "    return \"Bank Transfer\"\n",
        "\n",
        "def process_payment(payment_sys, amount):\n",
        "  print(payment_sys.pay_method())\n",
        "  print(payment_sys.pay(amount))\n",
        "\n",
        "credit_card = Creditcardpay()\n",
        "upi = BHIMUPI()\n",
        "bank_transfer = BankTransfer()\n",
        "\n",
        "process_payment(credit_card, 2000)\n",
        "process_payment(upi, 1200)\n",
        "process_payment(bank_transfer, 2000)"
      ],
      "metadata": {
        "colab": {
          "base_uri": "https://localhost:8080/"
        },
        "id": "wYcV-3Q_9UVs",
        "outputId": "6b170d04-9eca-46e3-9c4d-7f53e9b3187c"
      },
      "execution_count": null,
      "outputs": [
        {
          "output_type": "stream",
          "name": "stdout",
          "text": [
            "Credit card\n",
            "paid rs.2000 using credit card.\n",
            "BHIMPI\n",
            "paid rs.1200 using BHIMUPI.\n",
            "Bank Transfer\n",
            "paid rs.2000 using Bank Transfer.\n"
          ]
        }
      ]
    },
    {
      "cell_type": "code",
      "source": [
        "# How does Python achieve polymorphism through method overriding?\n",
        "\n",
        "# ANSWER:- Python achieves polymorphism through method overriding by allowing subclasses to provide  their own specific implementation of methods that are already defined in their parent class.\n",
        "          #This enables a single interface(method name) to behave differently based on the object that invokes it.\n",
        "    # how it works\n",
        "    # 1. Parent class method\n",
        "    # 2. child class overrides the method\n",
        "    # 3. dynamic method resolution\n",
        "\n",
        "class Animal:\n",
        "  def speak(self):\n",
        "    return \"Make sound\"\n",
        "class Dog(Animal):\n",
        "  def speak(self):\n",
        "    return \"woof\"\n",
        "class Cat(Animal):\n",
        "  def speak(self):\n",
        "    return \"meow\"\n",
        "\n",
        "animals = [Dog(), Cat(), Animal()]\n",
        "for animal in animals:\n",
        "  print(animal.speak())"
      ],
      "metadata": {
        "colab": {
          "base_uri": "https://localhost:8080/"
        },
        "id": "9nc-H4-_BMS5",
        "outputId": "87a0e2ed-a7d1-4c13-a672-f2d8f9801f08"
      },
      "execution_count": null,
      "outputs": [
        {
          "output_type": "stream",
          "name": "stdout",
          "text": [
            "woof\n",
            "meow\n",
            "Make sound\n"
          ]
        }
      ]
    },
    {
      "cell_type": "code",
      "source": [
        "# Define a base class with a method and a subclass that overrides the method.\n",
        "\n",
        "class Vehicle:\n",
        "  def brand(self):\n",
        "    return \"This is a car\"\n",
        "\n",
        "class Car(Vehicle):\n",
        "  def brand(self):\n",
        "    return \"This is BMW car\"\n",
        "\n",
        "vehicle = Vehicle()\n",
        "car = Car()\n",
        "print(vehicle.brand())\n",
        "print(car.brand())"
      ],
      "metadata": {
        "colab": {
          "base_uri": "https://localhost:8080/"
        },
        "id": "TYnJFkE1ILrn",
        "outputId": "35463831-5b55-4c5b-ba6b-7a1e3cc4c5b2"
      },
      "execution_count": null,
      "outputs": [
        {
          "output_type": "stream",
          "name": "stdout",
          "text": [
            "This is a car\n",
            "This is BMW car\n"
          ]
        }
      ]
    },
    {
      "cell_type": "code",
      "source": [
        "# Define a base class and multiple subclasses with overridden methods.\n",
        "\n",
        "class Animal:\n",
        "  def speak(self):\n",
        "    return \"Make some generic sound\"\n",
        "class Dog(Animal):\n",
        "  def speak(self):\n",
        "    return \"woof\"\n",
        "class Cat(Animal):\n",
        "  def speak(self):\n",
        "    return \"meow\"\n",
        "class Cow(Animal):\n",
        "  def speak(self):\n",
        "    return \"moo\"\n",
        "\n",
        "animals = [Dog(), Cat(), Cow(), Animal()]\n",
        "for animal in animals:\n",
        "  print(animal.speak())"
      ],
      "metadata": {
        "colab": {
          "base_uri": "https://localhost:8080/"
        },
        "id": "VXATaOJHJ3HM",
        "outputId": "35d65369-cc05-4f65-f6f4-7e1b9e594a2d"
      },
      "execution_count": null,
      "outputs": [
        {
          "output_type": "stream",
          "name": "stdout",
          "text": [
            "woof\n",
            "meow\n",
            "moo\n",
            "Make some generic sound\n"
          ]
        }
      ]
    },
    {
      "cell_type": "code",
      "source": [
        "# How does polymorphism improve code readability and reusability?\n",
        "\n",
        "# ANSWER:- It is technique that enables objects to be treated as instances of their parent class rather than their actual class.\n",
        "    # 1. Improved code Readability:\n",
        "      # >> polymorphism allows developers to write cleaner and more intuitive code.\n",
        "      # >> it simplifies complex logic by letting objects of different types respond to the same method call, as long as they share the same base class. This reduces the need for lengthy conditional statement or type checks.\n",
        "    # 2.Enhanced code Reusability:\n",
        "      # >> with polymorphism, you can write flexible and generic code that works across different types of objects. This eliminates redundancy and duplictaion, as the same code can handle multiple scenarios.\n",
        "      # >> it supports the open-closed principle, which states that software entities should be open for extention but closed for modification. when new classes are added to the system, existing code doesn't need to be altered because polymorphism ensures compatibility.\n"
      ],
      "metadata": {
        "id": "btp6fxamK_zE"
      },
      "execution_count": null,
      "outputs": []
    },
    {
      "cell_type": "code",
      "source": [
        "# Describe how Python supports polymorphism with duck typing.\n",
        "\n",
        "# ANSWER:-  In python, polymorphism is elegantly supported through a concept called Duck typing,\n",
        "          #  which is based on the principle: \"If it looks like duck, swims like duck, and quacks like duck, it's a duck.\" , essentially, an object's behavior determines its compatibility with a given operation rather than its specific type.\n",
        "          # 1. Method compatibility over class hierarchy.\n",
        "          # 2. Dynamic typing.\n",
        "\n",
        "class Cat:\n",
        "  def make_sound(self):\n",
        "    return \"meow\"\n",
        "class Dog:\n",
        "  def make_sound(self):\n",
        "    return \"woof\"\n",
        "class Duck:\n",
        "  def make_sound(self):\n",
        "    return \"quack\"\n",
        "def animal_sound(animal):\n",
        "  return animal.make_sound()\n",
        "\n",
        "animals = [Cat(), Dog(), Duck()]\n",
        "for animal in animals:\n",
        "  print(animal_sound(animal))"
      ],
      "metadata": {
        "colab": {
          "base_uri": "https://localhost:8080/"
        },
        "id": "MIPXyjCTvkMr",
        "outputId": "a9daf1ea-65d8-415c-d0c9-8124cfa30417"
      },
      "execution_count": null,
      "outputs": [
        {
          "output_type": "stream",
          "name": "stdout",
          "text": [
            "meow\n",
            "woof\n",
            "quack\n"
          ]
        }
      ]
    },
    {
      "cell_type": "code",
      "source": [
        "# How do you achieve encapsulation in Python?\n",
        "\n",
        "# ANSWER:- Encapsulation in python is acheived by restricting access to certain attributes or methods of class and exposing only those that are meant to be accessible. This helps in bundling data(attributes) and methods that operate on the data into a single unit(a class), while controlling how the data is accessed or modified.\n",
        "    # 1. Using Private attributes and methods.\n",
        "    # 2. Using getter and setter methods.\n",
        "    # 3. Property decorators(@property)."
      ],
      "metadata": {
        "id": "NIh2ooY20jLG"
      },
      "execution_count": null,
      "outputs": []
    },
    {
      "cell_type": "code",
      "source": [
        "# Can encapsulation be bypassed in Python? If so, how?\n",
        "\n",
        "# ANSWER:- Yes, encapsulation in python can be bypassed due to its nature as a dynamic language. while python uses conventions like prefixing attributes or methods with double conventions like prefixing attributes or methods with double underscores to indicate that they are private, it relies on name mangling rather than true enforcement.  This means private attributes can technically still be accessed externally if you know how to bypass the restrictions.\n",
        "    # 1. Using Name Mangling.\n",
        "    # 2. Reflection via getattr().\n",
        "    # 3. Modifying attributes dictionary(__dict__)."
      ],
      "metadata": {
        "id": "vKH7vGU05dQA"
      },
      "execution_count": null,
      "outputs": []
    },
    {
      "cell_type": "code",
      "source": [
        "# Implement a class BankAccount with a private balance attribute. Include methods to deposit, withdraw,\n",
        "#    and check the balance.\n",
        "\n",
        "class BankAccount:\n",
        "  def __init__(self, balance = 0):\n",
        "    self.__balance = balance\n",
        "\n",
        "  def deposit(self, amount):\n",
        "    if amount > 0:\n",
        "      self.__balance += amount\n",
        "      print(f\" Deposited: {amount}\")\n",
        "    else:\n",
        "      print(\"Diposited amount must be positve\")\n",
        "\n",
        "  def withdraw(self, amount):\n",
        "    if 0 < amount <= self.__balance:\n",
        "      self.__balance -= amount\n",
        "      print(f\"withdraw: {amount}\")\n",
        "    elif amount > self.__balance:\n",
        "      print(\"not available\")\n",
        "    else:\n",
        "      print(\"Withdraw amount must be positive\")\n",
        "  def check_balance(self):\n",
        "    return f\"available balance: {self.__balance}\"\n",
        "\n",
        "account = BankAccount(1000)\n",
        "print(account.check_balance())\n",
        "account.deposit(500)\n",
        "print(account.check_balance())\n",
        "account.withdraw(300)\n",
        "print(account.check_balance())\n",
        "account.withdraw(1500)"
      ],
      "metadata": {
        "colab": {
          "base_uri": "https://localhost:8080/"
        },
        "id": "Bk_t7Kih_beb",
        "outputId": "17e97dfd-12af-47e3-f202-d12b9304445f"
      },
      "execution_count": null,
      "outputs": [
        {
          "output_type": "stream",
          "name": "stdout",
          "text": [
            "available balance: 1000\n",
            " Deposited: 500\n",
            "available balance: 1500\n",
            "withdraw: 300\n",
            "available balance: 1200\n",
            "not available\n"
          ]
        }
      ]
    },
    {
      "cell_type": "code",
      "source": [
        "# Develop a Person class with private attributes name and email, and methods to set and get the email.\n",
        "\n",
        "class Person:\n",
        "  def __init__(self, name, email):\n",
        "    self.__name = name\n",
        "    self.__email = email\n",
        "\n",
        "  def get_email(self):\n",
        "    return self.__email\n",
        "  def set_email(self, email):\n",
        "    if \"@\" in email and \".\" in email:\n",
        "      self.__email = email\n",
        "    else:\n",
        "      print(\"Invalid email\")\n",
        "\n",
        "person = Person(\"Ayush kumar\", \"akayush@gmail.com\")\n",
        "print(person.get_email())\n",
        "person.set_email(\"new_email@yahoo.com\")\n",
        "print(person.get_email())\n",
        "person.set_email(\"invalid\")"
      ],
      "metadata": {
        "colab": {
          "base_uri": "https://localhost:8080/"
        },
        "id": "j3EEG5koC0Qq",
        "outputId": "761a1fc2-8764-4a2b-adc3-711dd8117c5f"
      },
      "execution_count": null,
      "outputs": [
        {
          "output_type": "stream",
          "name": "stdout",
          "text": [
            "akayush@gmail.com\n",
            "new_email@yahoo.com\n",
            "Invalid email\n"
          ]
        }
      ]
    },
    {
      "cell_type": "code",
      "source": [
        "#  Why is encapsulation considered a pillar of object-oriented programming (OOP)?\n",
        "\n",
        "# ANSWER:- Encapsulation can be thought of as a \"black box\". for example: a televison remote-users press buttons to change channels, but they don't need to know how the internal circuitry works.\n",
        "  # Encapsulation similarly hides complexity while providing an accessible interface. in essence, encapsulation is the foundation that allows object-oriented systems to be secure, scalable, and easy to work with.\n",
        "      # 1. Data protection and security.\n",
        "      # 2. Modularity and abstarction.\n",
        "      # 3. Ease of maintainance.\n",
        "      # 4. Improved code reusability.\n",
        "      # 5. compliance with oop principle."
      ],
      "metadata": {
        "id": "lCCmBDjUOBHj"
      },
      "execution_count": null,
      "outputs": []
    },
    {
      "cell_type": "code",
      "source": [
        "# Create a decorator in Python that adds functionality to a simple function by printing a message before\n",
        "#     and after the function execution.\n",
        "\n",
        "\n",
        "def print_msg_decorator(func):\n",
        "  def wrapper(*args, **kwargs):\n",
        "    print(\"before the function execution\")\n",
        "    result = func(*args, **kwargs)\n",
        "    print(\"after the function execution\")\n",
        "  return wrapper\n",
        "\n",
        "@print_msg_decorator\n",
        "def say_hello():\n",
        "  print(\"hello, ayush\")\n",
        "say_hello()"
      ],
      "metadata": {
        "colab": {
          "base_uri": "https://localhost:8080/"
        },
        "id": "kmT_nSAGWLMF",
        "outputId": "99e6ff58-460f-4b38-a8eb-66e8b15b85ad"
      },
      "execution_count": null,
      "outputs": [
        {
          "output_type": "stream",
          "name": "stdout",
          "text": [
            "before the function execution\n",
            "hello, ayush\n",
            "after the function execution\n"
          ]
        }
      ]
    },
    {
      "cell_type": "code",
      "source": [
        "# Modify the decorator to accept arguments and print the function name along with the message.\n",
        "\n",
        "def message_decorator(pre_message, post_message):\n",
        "  def decorator(func):\n",
        "    def wrapper(*args, **kwargs):\n",
        "      print(f\"{pre_message} (function: {func.__name__})\")\n",
        "      result = func(*args, **kwargs)\n",
        "      print(f\"{post_message} (function: {func.__name__})\")\n",
        "      return result\n",
        "    return wrapper\n",
        "  return decorator\n",
        "\n",
        "@message_decorator(pre_message=\"starting execution\", post_message=\"execution finished\")\n",
        "def greet(name):\n",
        "  print(f\"Hello, {name}\")\n",
        "\n",
        "greet(\"Ayush\")"
      ],
      "metadata": {
        "colab": {
          "base_uri": "https://localhost:8080/"
        },
        "id": "tL3gXDpnX33b",
        "outputId": "f434d661-b609-421c-f83c-1f7805be1949"
      },
      "execution_count": null,
      "outputs": [
        {
          "output_type": "stream",
          "name": "stdout",
          "text": [
            "starting execution (function: greet)\n",
            "Hello, Ayush\n",
            "execution finished (function: greet)\n"
          ]
        }
      ]
    },
    {
      "cell_type": "code",
      "source": [
        "# Create two decorators, and apply them to a single function. Ensure that they execute in the order they are applied.\n",
        "\n",
        "def decorator_one(func):\n",
        "  def wrapper(*args, **kwargs):\n",
        "    print(\"decorator one: before the function\")\n",
        "    result = func(*args, **kwargs)\n",
        "    print(\"decorator one: after the function\")\n",
        "    return result\n",
        "  return wrapper\n",
        "\n",
        "def decorator_two(func):\n",
        "  def wrapper(*args, **kwargs):\n",
        "    print(\"decorator two: before the function\")\n",
        "    result = func(*args, **kwargs)\n",
        "    print(\"decorator two: after the function\")\n",
        "    return result\n",
        "  return wrapper\n",
        "\n",
        "@decorator_one\n",
        "@decorator_two\n",
        "def greet(name):\n",
        "  print(f\"Namaste, {name}\")\n",
        "greet(\"Ayush\")"
      ],
      "metadata": {
        "colab": {
          "base_uri": "https://localhost:8080/"
        },
        "id": "aLI3U2nlaJdW",
        "outputId": "913288ee-95e8-4a36-f463-a203e8a695e1"
      },
      "execution_count": null,
      "outputs": [
        {
          "output_type": "stream",
          "name": "stdout",
          "text": [
            "decorator one: before the function\n",
            "decorator two: before the function\n",
            "Namaste, Ayush\n",
            "decorator two: after the function\n",
            "decorator one: after the function\n"
          ]
        }
      ]
    },
    {
      "cell_type": "code",
      "source": [
        "#  Modify the decorator to accept and pass function arguments to the wrapped function.\n",
        "\n",
        "def message_decorator(pre_message, post_message):\n",
        "  def decorator(func):\n",
        "    def wrapper(*args, **kwargs):\n",
        "      print(f\"{pre_message} (function: {func.__name__})\")\n",
        "      result = func(*args, **kwargs)\n",
        "      print(f\"{post_message} (function: {func.__name__})\")\n",
        "      return result\n",
        "    return wrapper\n",
        "  return decorator\n",
        "\n",
        "@message_decorator(pre_message=\"starting execution\", post_message=\"execution finished\")\n",
        "def greet(name, greeting =\"hello\"):\n",
        "  print(f\"{greeting}, {name}\")\n",
        "\n",
        "greet(\"Ayush\")\n",
        "greet(\"Ajay\", greeting =\"hey\")"
      ],
      "metadata": {
        "colab": {
          "base_uri": "https://localhost:8080/"
        },
        "id": "-hFSV80vctgC",
        "outputId": "bcb85051-7cad-4064-ad43-773056e55e1b"
      },
      "execution_count": null,
      "outputs": [
        {
          "output_type": "stream",
          "name": "stdout",
          "text": [
            "starting execution (function: greet)\n",
            "hello, Ayush\n",
            "execution finished (function: greet)\n",
            "starting execution (function: greet)\n",
            "hey, Ajay\n",
            "execution finished (function: greet)\n"
          ]
        }
      ]
    },
    {
      "cell_type": "code",
      "source": [
        "# Create a decorator that preserves the metadata of the original function.\n",
        "\n",
        "from functools import wraps\n",
        "\n",
        "def metadata_presrv_decorator(func):\n",
        "  @wraps(func)\n",
        "  def wrapper(*args, **kwargs):\n",
        "    print(f\"executing: {func.__name__}\")\n",
        "    result = func(*args, **kwargs)\n",
        "    print(f\"finished: {func.__name__}\")\n",
        "    return result\n",
        "  return wrapper\n",
        "@metadata_presrv_decorator\n",
        "def greet(name):\n",
        "  \"\"\"Greets a person with their name.\"\"\"\n",
        "  print(f\"hello, {name}\")\n",
        "\n",
        "print(greet.__name__)\n",
        "print(greet.__doc__)\n",
        "greet(\"Ayush\")"
      ],
      "metadata": {
        "colab": {
          "base_uri": "https://localhost:8080/"
        },
        "id": "RAyGCee4j_6F",
        "outputId": "b5613a74-cc9b-465b-961a-ac3c70a5c828"
      },
      "execution_count": null,
      "outputs": [
        {
          "output_type": "stream",
          "name": "stdout",
          "text": [
            "greet\n",
            "Greets a person with their name.\n",
            "executing: greet\n",
            "hello, Ayush\n",
            "finished: greet\n"
          ]
        }
      ]
    },
    {
      "cell_type": "code",
      "source": [
        "#  Create a Python class `Calculator` with a static method `add` that takes in two numbers and returns their sum.\n",
        "\n",
        "class Calculator:\n",
        "  @staticmethod\n",
        "  def add(num1, num2):\n",
        "    return num1 + num2\n",
        "\n",
        "result = Calculator.add(5, 10)\n",
        "print(f\"The sum is: {result}\")"
      ],
      "metadata": {
        "colab": {
          "base_uri": "https://localhost:8080/"
        },
        "id": "tEQEUDkDlXgm",
        "outputId": "b6fa3c09-4b44-4097-d170-869ed535e169"
      },
      "execution_count": null,
      "outputs": [
        {
          "output_type": "stream",
          "name": "stdout",
          "text": [
            "The sum is: 15\n"
          ]
        }
      ]
    },
    {
      "cell_type": "code",
      "source": [
        "# Create a Python class `Employee` with a class `method get_employee_count` that returns the total number of employees created\n",
        "\n",
        "class Employee:\n",
        "  employee_count = 0\n",
        "  def __init__(self, name):\n",
        "    self.name = name\n",
        "    Employee.employee_count += 1\n",
        "\n",
        "  @classmethod\n",
        "  def get_employee_count(cls):\n",
        "    return cls.employee_count\n",
        "\n",
        "emp1 = Employee(\"Harsh\")\n",
        "emp2 = Employee(\"Ayush\")\n",
        "emp3 = Employee(\"Ajay\")\n",
        "print(Employee.get_employee_count())"
      ],
      "metadata": {
        "id": "gxfMedo7mbZR",
        "colab": {
          "base_uri": "https://localhost:8080/"
        },
        "outputId": "95304ea5-0b2b-415a-f005-5cf43684ffc4"
      },
      "execution_count": 1,
      "outputs": [
        {
          "output_type": "stream",
          "name": "stdout",
          "text": [
            "3\n"
          ]
        }
      ]
    },
    {
      "cell_type": "code",
      "source": [
        "# Create a Python class `StringFormatter` with a static method `reverse_string` that takes a string as input and returns its reverse.\n",
        "\n",
        "class StringFormatter:\n",
        "  @staticmethod\n",
        "  def reverse_string(input_string):\n",
        "    return input_string[::-1]\n",
        "\n",
        "reversed_string = StringFormatter.reverse_string(\"Hello, World\")\n",
        "print(reversed_string)"
      ],
      "metadata": {
        "colab": {
          "base_uri": "https://localhost:8080/"
        },
        "id": "VD-ha6k1SZxk",
        "outputId": "b522ddd4-9ab5-4c8f-d2ef-6c62bc3a42fc"
      },
      "execution_count": 2,
      "outputs": [
        {
          "output_type": "stream",
          "name": "stdout",
          "text": [
            "dlroW ,olleH\n"
          ]
        }
      ]
    },
    {
      "cell_type": "code",
      "source": [
        "# Create a Python class `Circle` with a class method `calculate_area` that calculates the area of a circle given its radius.\n",
        "\n",
        "import math\n",
        "\n",
        "class Circle:\n",
        "  @classmethod\n",
        "  def calculate_area(cls, radius):\n",
        "    return math.pi * (radius ** 2)\n",
        "\n",
        "radius = 3\n",
        "area = Circle.calculate_area(radius)\n",
        "print(f\"The area of the circle with radius {radius} is {area: .2f}\")"
      ],
      "metadata": {
        "colab": {
          "base_uri": "https://localhost:8080/"
        },
        "id": "h_rEHIV4TUd_",
        "outputId": "15b94164-7882-4a24-f053-b866eae6c1ab"
      },
      "execution_count": 8,
      "outputs": [
        {
          "output_type": "stream",
          "name": "stdout",
          "text": [
            "The area of the circle with radius 3 is  28.27\n"
          ]
        }
      ]
    },
    {
      "cell_type": "code",
      "source": [
        "# Create a Python class `TemperatureConverter` with a static method `celsius_to_fahrenheit` that converts Celsius to Fahrenheit.\n",
        "\n",
        "class TemperatureConverter:\n",
        "  @staticmethod\n",
        "  def celsius_to_fahrenheit(celcius):\n",
        "    return (celcius * 9/5) + 32\n",
        "\n",
        "celcius_temp = 40\n",
        "fahrenheit_temp = TemperatureConverter.celsius_to_fahrenheit(celcius)\n",
        "print(f\"{celcius_temp}°c is equivalent to {fahrenheit_temp: .2f}°f\") #for degree i have used alt+0176"
      ],
      "metadata": {
        "colab": {
          "base_uri": "https://localhost:8080/"
        },
        "id": "6ziegURYUoER",
        "outputId": "4318510a-40e9-414b-a026-a683f5fd97e6"
      },
      "execution_count": 11,
      "outputs": [
        {
          "output_type": "stream",
          "name": "stdout",
          "text": [
            "40°c is equivalent to  104.00°f\n"
          ]
        }
      ]
    },
    {
      "cell_type": "code",
      "source": [
        "# What is the purpose of the __str__() method in Python classes? Provide an example.\n",
        "\n",
        "# ANSWER:- The __str__() method in python is special method used to define a \"string representation\" of an object.\n",
        "\n",
        "class Person:\n",
        "  def __init__(self, name, age):\n",
        "    self.name = name\n",
        "    self.age = age\n",
        "  def __str__(self):\n",
        "    return f\"{self.name} is {self.age} years old.\"\n",
        "\n",
        "person = Person(\"Ayush\", 24)\n",
        "print(person)"
      ],
      "metadata": {
        "colab": {
          "base_uri": "https://localhost:8080/"
        },
        "id": "O4JvkTlzWwi4",
        "outputId": "f593cc9c-eb09-4790-c622-d33cb211fbdc"
      },
      "execution_count": 13,
      "outputs": [
        {
          "output_type": "stream",
          "name": "stdout",
          "text": [
            "Ayush is 24 years old.\n"
          ]
        }
      ]
    },
    {
      "cell_type": "code",
      "source": [
        "# How does the __len__() method work in Python? Provide an example.\n",
        "\n",
        "# ANSWER:- The __len__() method in python is a special method used to define the behavior of the len() function for a custom object.\n",
        "        #  when __len__() is called on an object, python internally calls the __len__() method of that object to determine and return its length.\n",
        "\n",
        "class Mylist:\n",
        "  def __init__(self, elements):\n",
        "    self.elements = elements\n",
        "\n",
        "  def __len__(self):\n",
        "    return len(self.elements)\n",
        "\n",
        "my_list = Mylist([1, 2, 3, 4, 5])\n",
        "print(len(my_list))"
      ],
      "metadata": {
        "colab": {
          "base_uri": "https://localhost:8080/"
        },
        "id": "8m6ZKVr0YLM8",
        "outputId": "2d84a6f1-4f13-434b-b2a4-bc0fc6f852f0"
      },
      "execution_count": 14,
      "outputs": [
        {
          "output_type": "stream",
          "name": "stdout",
          "text": [
            "5\n"
          ]
        }
      ]
    },
    {
      "cell_type": "code",
      "source": [
        "# Explain the usage of the __add__() method in Python classes. Provide an example.\n",
        "\n",
        "# ANSWER:- The __add__() method in python is a special method that is used to define custom behaviou for the + operator in userdefined class.\n",
        "            #  By overriding this method, we can specify how objects of your class should be aadded together when using the + operator.\n",
        "\n",
        "class Adding:\n",
        "  def __init__(self, x, y):\n",
        "    self.x = x\n",
        "    self.y = y\n",
        "  def __add__(self, other):\n",
        "    return Adding(self.x + other.x, self.y + other.y)\n",
        "\n",
        "obj1 = Adding(1, 2)\n",
        "obj2 = Adding(3, 4)\n",
        "result = obj1 + obj2\n",
        "print(result.x, result.y)"
      ],
      "metadata": {
        "colab": {
          "base_uri": "https://localhost:8080/"
        },
        "id": "CB14SWX0ZsT0",
        "outputId": "2731384f-1216-431c-a2ad-9babb7102f73"
      },
      "execution_count": 15,
      "outputs": [
        {
          "output_type": "stream",
          "name": "stdout",
          "text": [
            "4 6\n"
          ]
        }
      ]
    },
    {
      "cell_type": "code",
      "source": [
        "# What is the purpose of the __getitem__() method in Python? Provide an example.\n",
        "\n",
        "# ANSWER:- The __getitem__() method in python is a special method that allows objects of a class to use square bracket notation for indexing or key based access, much like list, dictionaries, or tuples. By overriding __getitem__() we can define how your customs objects handle item retrieval when indexed.\n",
        "\n",
        "class Customlist:\n",
        "  def __init__(self, elements):\n",
        "    self.elements = elements\n",
        "  def __getitem__(self, index):\n",
        "    return self.elements[index]\n",
        "\n",
        "my_list = Customlist([10, 2, 3, 40, 5])\n",
        "print(my_list[2])\n",
        "print(my_list[0])"
      ],
      "metadata": {
        "colab": {
          "base_uri": "https://localhost:8080/"
        },
        "id": "pO4VapafbhT1",
        "outputId": "0bd1d6c8-ef2b-41b0-e498-73b4ff9c473c"
      },
      "execution_count": 17,
      "outputs": [
        {
          "output_type": "stream",
          "name": "stdout",
          "text": [
            "3\n",
            "10\n"
          ]
        }
      ]
    },
    {
      "cell_type": "code",
      "source": [
        "# Explain the usage of the __iter__() and __next__() methods in Python. Provide an example using iterators.\n",
        "\n",
        "# ANSWER:- The __iter__() and __next__() methods are special methods in python that enable a class to suppport iteration. when you define these methods in a class, we can make its objects iterable and compatible with python's iteration protocols.\n",
        "\n",
        "class Counter:\n",
        "  def __init__(self, start, end):\n",
        "    self.current = start\n",
        "    self.end = end\n",
        "  def __iter__(self):\n",
        "    return self\n",
        "  def __next__(self):\n",
        "    if self.current > self.end:\n",
        "      raise StopIteration\n",
        "    else:\n",
        "      current_value = self.current\n",
        "      self.current += 1\n",
        "      return current_value\n",
        "\n",
        "counter = Counter(1, 5)\n",
        "for num in counter:\n",
        "  print(num)"
      ],
      "metadata": {
        "colab": {
          "base_uri": "https://localhost:8080/"
        },
        "id": "sWoNwEn7dwNy",
        "outputId": "8ce240ed-f5a8-4370-d7fb-ffb5d835ac1c"
      },
      "execution_count": 18,
      "outputs": [
        {
          "output_type": "stream",
          "name": "stdout",
          "text": [
            "1\n",
            "2\n",
            "3\n",
            "4\n",
            "5\n"
          ]
        }
      ]
    },
    {
      "cell_type": "code",
      "source": [
        "# What is the purpose of a getter method in Python? Provide an example demonstrating the use of a getter method using property decorators.\n",
        "\n",
        "# ANSWER:- A getter method in python is used to retrieve the value of an attribute in a controlled and secure way. By using getter methods, we can encapsulate class attributes and implement logic for accessing their values. python provides a more elegant way to define getter methods through property decorators.\n",
        "\n",
        "class Person:\n",
        "  def __init__(self, name, age):\n",
        "    self._name = name\n",
        "    self._age = age\n",
        "  @property\n",
        "  def age(self):\n",
        "    return self._age    #gettermethod\n",
        "  @age.setter\n",
        "  def age(self, value):\n",
        "    if value < 0:\n",
        "      raise ValueError(\"Age can't be negative\")\n",
        "    self._age = value\n",
        "\n",
        "person = Person(\"Ayush\", 24)\n",
        "print(person.age)\n",
        "person.age = 30\n",
        "print(person.age)"
      ],
      "metadata": {
        "colab": {
          "base_uri": "https://localhost:8080/"
        },
        "id": "ILj-uPocjcTm",
        "outputId": "6eeaba76-ca80-4278-979b-e52a4892fa9b"
      },
      "execution_count": 19,
      "outputs": [
        {
          "output_type": "stream",
          "name": "stdout",
          "text": [
            "24\n",
            "30\n"
          ]
        }
      ]
    },
    {
      "cell_type": "code",
      "source": [
        "# Explain the role of setter methods in Python. Demonstrate how to use a setter method to modify a class attribute using property decorators.\n",
        "\n",
        "# ANSWER:- A setter method in Python is used to modify the value of a class attribute in a controlled manner.\n",
        "      #  Setter methods are often used with private attributes to ensure validation, encapsulation, or any other custom logic before updating the value. Python makes it easy to define setter methods using property decorators.\n",
        "\n",
        "class Person:\n",
        "  def __init__(self, name, age):\n",
        "    self._name = name\n",
        "    self._age = age\n",
        "  @property\n",
        "  def age(self):\n",
        "    return self._age\n",
        "  @age.setter           #setter method\n",
        "  def age(self, value):\n",
        "    if value < 0:\n",
        "      raise ValueError(\"Age can't be negative\")\n",
        "    self._age = value\n",
        "\n",
        "person = Person(\"Ayush\", 24)\n",
        "print(person.age)\n",
        "person.age = 30\n",
        "print(person.age)"
      ],
      "metadata": {
        "colab": {
          "base_uri": "https://localhost:8080/"
        },
        "id": "MGIe63dUr_bl",
        "outputId": "c0cf6ef4-1ecc-47c2-a265-f13e8978c3a3"
      },
      "execution_count": 20,
      "outputs": [
        {
          "output_type": "stream",
          "name": "stdout",
          "text": [
            "24\n",
            "30\n"
          ]
        }
      ]
    },
    {
      "cell_type": "code",
      "source": [
        "# What is the purpose of the @property decorator in Python? Provide an example illustrating its usage.\n",
        "\n",
        "# ANSWER:- The @property decorator in Python is used to define a method that can be accessed like an attribute. It allows you to implement getters in a clean and intuitive way, enabling controlled access to private attributes while keeping the syntax user-friendly.\n",
        "\n",
        "class Rectangle:\n",
        "    def __init__(self, width, height):\n",
        "        self._width = width\n",
        "        self._height = height\n",
        "\n",
        "    @property\n",
        "    def area(self):\n",
        "      return self._width * self._height\n",
        "\n",
        "    @property\n",
        "    def width(self):\n",
        "       return self._width\n",
        "\n",
        "    @width.setter\n",
        "    def width(self, value):\n",
        "      if value <= 0:\n",
        "            raise ValueError(\"Width must be positive.\")\n",
        "      self._width = value\n",
        "\n",
        "    @property\n",
        "    def height(self):\n",
        "        return self._height\n",
        "\n",
        "    @height.setter\n",
        "    def height(self, value):\n",
        "       if value <= 0:\n",
        "            raise ValueError(\"Height must be positive.\")\n",
        "       self._height = value\n",
        "\n",
        "rect = Rectangle(5, 10)\n",
        "print(f\"Area: {rect.area}\")\n",
        "rect.width = 8\n",
        "print(f\"New Width: {rect.width}\")\n",
        "print(f\"Updated Area: {rect.area}\")"
      ],
      "metadata": {
        "colab": {
          "base_uri": "https://localhost:8080/"
        },
        "id": "TeudBt-5t_6X",
        "outputId": "ab198ab7-974f-4741-9de3-bfdb06969190"
      },
      "execution_count": 21,
      "outputs": [
        {
          "output_type": "stream",
          "name": "stdout",
          "text": [
            "Area: 50\n",
            "New Width: 8\n",
            "Updated Area: 80\n"
          ]
        }
      ]
    },
    {
      "cell_type": "code",
      "source": [
        "#  Explain the use of the @deleter decorator in Python property decorators. Provide a code example demonstrating its application.\n",
        "\n",
        "# ANSWER:- The @deleter decorator in Python is used as part of the property mechanism to define behavior when a property is deleted using the del statement. It is paired with the @property decorator (for the getter) and optionally with the @<property_name>.setter decorator (for the setter).\n",
        "    #  The @deleter decorator allows us to encapsulate deletion logic for a specific attribute, providing controlled access to the deletion process.\n",
        "\n",
        "class Person:\n",
        "    def __init__(self, name, age):\n",
        "        self._name = name\n",
        "        self._age = age\n",
        "    @property\n",
        "    def age(self):\n",
        "       return self._age\n",
        "\n",
        "    @age.setter\n",
        "    def age(self, value):\n",
        "       if value < 0:\n",
        "            raise ValueError(\"Age cannot be negative.\")\n",
        "       self._age = value\n",
        "\n",
        "    @age.deleter\n",
        "    def age(self):\n",
        "       print(\"Deleting age...\")\n",
        "       self._age = None\n",
        "\n",
        "person = Person(\"Alice\", 30)\n",
        "print(person.age)\n",
        "person.age = 35\n",
        "print(person.age)\n",
        "del person.age\n",
        "print(person.age)"
      ],
      "metadata": {
        "colab": {
          "base_uri": "https://localhost:8080/"
        },
        "id": "OwmpsxiKvW1N",
        "outputId": "9fd557f3-3b7d-4d89-f6c3-ab319698a53f"
      },
      "execution_count": 22,
      "outputs": [
        {
          "output_type": "stream",
          "name": "stdout",
          "text": [
            "30\n",
            "35\n",
            "Deleting age...\n",
            "None\n"
          ]
        }
      ]
    },
    {
      "cell_type": "code",
      "source": [
        "# How does encapsulation relate to property decorators in Python? Provide an example showcasing encapsulation using property decorators.\n",
        "\n",
        "#ANSWER:-  Encapsulation in Python refers to the practice of restricting direct access to an object's attributes and methods to ensure data integrity and hide implementation details from the user.\n",
        "          #It is a fundamental principle of object-oriented programming that promotes modular and secure code design.\n",
        "  # Property decorators (@property, @<property_name>.setter, and @<property_name>.deleter) are powerful tools that facilitate encapsulation in Python.\n",
        "  #They allow controlled access to private attributes by defining getter, setter, and deleter methods, while enabling a clean and user-friendly syntax that looks like direct attribute access.\n",
        "\n",
        "\n",
        "class BankAccount:\n",
        "    def __init__(self, account_holder, balance):\n",
        "        self._account_holder = account_holder\n",
        "        self._balance = balance\n",
        "\n",
        "    @property\n",
        "    def balance(self):\n",
        "       return self._balance\n",
        "\n",
        "    @balance.setter\n",
        "    def balance(self, amount):\n",
        "       if amount < 0:\n",
        "            raise ValueError(\"Balance cannot be negative.\")\n",
        "       self._balance = amount\n",
        "\n",
        "    def deposit(self, amount):\n",
        "        if amount <= 0:\n",
        "            raise ValueError(\"Deposit amount must be positive.\")\n",
        "        self._balance += amount\n",
        "\n",
        "    def withdraw(self, amount):\n",
        "       if amount > self._balance:\n",
        "            raise ValueError(\"Insufficient balance.\")\n",
        "       self._balance -= amount\n",
        "\n",
        "account = BankAccount(\"Alice\", 1000)\n",
        "print(f\"Initial Balance: {account.balance}\")\n",
        "account.deposit(500)\n",
        "print(f\"Balance after deposit: {account.balance}\")\n",
        "account.withdraw(300)\n",
        "print(f\"Balance after withdrawal: {account.balance}\")"
      ],
      "metadata": {
        "colab": {
          "base_uri": "https://localhost:8080/"
        },
        "id": "CesYkWWewjkv",
        "outputId": "84e8fd73-df65-4c5c-8c92-6adbed98e4ba"
      },
      "execution_count": 23,
      "outputs": [
        {
          "output_type": "stream",
          "name": "stdout",
          "text": [
            "Initial Balance: 1000\n",
            "Balance after deposit: 1500\n",
            "Balance after withdrawal: 1200\n"
          ]
        }
      ]
    },
    {
      "cell_type": "code",
      "source": [],
      "metadata": {
        "id": "rB1oubTgxljY"
      },
      "execution_count": null,
      "outputs": []
    }
  ]
}